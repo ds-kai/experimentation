{
 "cells": [
  {
   "cell_type": "code",
   "execution_count": null,
   "id": "ce8f58cb",
   "metadata": {
    "vscode": {
     "languageId": "plaintext"
    }
   },
   "outputs": [],
   "source": [
    "start_date = '2024-01-01'\n",
    "end_date = '2025-03-15'\n",
    "\n",
    "# Read the SQL query from the file\n",
    "with open('202503_snapchat/city_level_data_v2.sql', 'r') as file:\n",
    "    city_query2 = file.read()  # Read the SQL query as a string\n",
    "\n",
    "city_query2 = city_query2.replace(\"{{start_date}}\", start_date).replace(\"{{end_date}}\", end_date)\n",
    "\n",
    "raw_city_data2 = pd.read_sql(city_query2, conn)\n"
   ]
  }
 ],
 "metadata": {
  "language_info": {
   "name": "python"
  }
 },
 "nbformat": 4,
 "nbformat_minor": 5
}
