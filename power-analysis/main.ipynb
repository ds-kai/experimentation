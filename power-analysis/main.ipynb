{
 "cells": [
  {
   "cell_type": "code",
   "execution_count": null,
   "id": "925d1667",
   "metadata": {
    "vscode": {
     "languageId": "plaintext"
    }
   },
   "outputs": [],
   "source": [
    "import numpy as np\n",
    "import seaborn as sns\n",
    "import pandas as pd\n",
    "import matplotlib.pyplot as plt \n",
    "import scipy\n",
    "\n",
    "from scipy import stats\n",
    "from statsmodels.stats.descriptivestats import sign_test\n",
    "\n",
    "import arrow # date format\n",
    "import warnings; warnings.simplefilter('ignore') # do not disturb"
   ]
  },
  {
   "cell_type": "code",
   "execution_count": null,
   "id": "ace656b9",
   "metadata": {},
   "outputs": [],
   "source": [
    "def calculate_sample_size_for_two_means(\n",
    "    effect_size: float,\n",
    "    sd: float,\n",
    "    alpha: float = 0.05,\n",
    "    power: float = 0.8,\n",
    "    df: int = 1000,\n",
    ") -> int:\n",
    "    '''Given effect size, standard deviation, alpha (type I error), power (1 - type II error)\n",
    "    and t-test df (degree of freedom), calculate minimum sample sizes required (in total),\n",
    "    assuming equal-size cells, shared standard deviation and one-sided t-test.\n",
    "    '''\n",
    "    z1 = stats.t.ppf(q=1-alpha, df=df)\n",
    "    z2 = stats.t.ppf(q=power, df=df)\n",
    "    n = 2 * sd ** 2 * ((z1 + z2) / effect_size) ** 2\n",
    "    \n",
    "    return int(np.ceil(n) * 2)"
   ]
  },
  {
   "cell_type": "code",
   "execution_count": null,
   "id": "5a814c26",
   "metadata": {},
   "outputs": [],
   "source": [
    "alpha = 0.05\n",
    "power = 0.8\n",
    "\n",
    "sample_size_df = pd.DataFrame()\n",
    "\n",
    "\n",
    "#mean, std = 238809 , 58714\n",
    "mean, std = df['roas'].mean(), df['roas'].std()\n",
    "\n",
    "for i in range(0,len(desired_lift)):\n",
    "    lift = desired_lift[i]\n",
    "    # lift is applied to the original scale\n",
    "    effect_size = (mean * lift)\n",
    "    sample_size = calculate_sample_size_for_two_means(\n",
    "        effect_size=effect_size,\n",
    "        sd=std,\n",
    "        alpha=alpha,\n",
    "        power=power)\n",
    "    sample_size_df.loc[i, \"Lift\"] = str(int(lift * 100)) + '%'\n",
    "    sample_size_df.loc[i, \"Effect Size\"] = effect_size\n",
    "    sample_size_df.loc[i, \"Days\"] = sample_size\n",
    "    sample_size_df.loc[i, \"Weeks\"] = int(sample_size / 7)\n",
    "    \n",
    "sample_size_df"
   ]
  }
 ],
 "metadata": {
  "language_info": {
   "name": "python"
  }
 },
 "nbformat": 4,
 "nbformat_minor": 5
}
